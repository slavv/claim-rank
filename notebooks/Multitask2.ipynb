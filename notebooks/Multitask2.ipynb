{
 "cells": [
  {
   "cell_type": "code",
   "execution_count": 1,
   "metadata": {},
   "outputs": [
    {
     "name": "stdout",
     "output_type": "stream",
     "text": [
      "/home/slav/ai/claim-rank\n"
     ]
    }
   ],
   "source": [
    "%cd /home/slav/ai/claim-rank\n",
    "!export PYTHONPATH=.\n",
    "%load_ext autoreload\n",
    "%autoreload 2"
   ]
  },
  {
   "cell_type": "code",
   "execution_count": 2,
   "metadata": {
    "collapsed": true
   },
   "outputs": [],
   "source": [
    "import numpy as np\n",
    "np.random.seed(42) # ! before importing keras!"
   ]
  },
  {
   "cell_type": "code",
   "execution_count": 3,
   "metadata": {
    "collapsed": true
   },
   "outputs": [],
   "source": [
    "from src.data.debates import read_debates, Debate"
   ]
  },
  {
   "cell_type": "code",
   "execution_count": 168,
   "metadata": {
    "collapsed": true
   },
   "outputs": [],
   "source": [
    "from src.features.feature_sets import get_experimential_pipeline, get_full_pipeline"
   ]
  },
  {
   "cell_type": "code",
   "execution_count": 169,
   "metadata": {},
   "outputs": [],
   "source": [
    "from keras.layers import Input, Embedding, Conv1D, Dense\n",
    "from keras.models import Model, clone_model\n",
    "from keras.layers import Input, Dense, Dropout\n",
    "from keras import optimizers\n",
    "from src.stats.rank_metrics import average_precision, precision_at_n\n",
    "from sklearn.metrics import average_precision_score"
   ]
  },
  {
   "cell_type": "code",
   "execution_count": 170,
   "metadata": {
    "collapsed": true
   },
   "outputs": [],
   "source": [
    "def get_claim_scores(sentences):\n",
    "    return np.array([np.array([1 if s.label>0 else 0] +\n",
    "           [int(l) for l in s.labels]) for s in sentences])\n",
    "    "
   ]
  },
  {
   "cell_type": "code",
   "execution_count": 173,
   "metadata": {},
   "outputs": [
    {
     "name": "stdout",
     "output_type": "stream",
     "text": [
      "['sent', 'tokens_num', 'text_len', 'ner', 'pos', 'pf_match_score', 'pf_match_with_person', 'w2v_dist', 'w2v_dist_prev', 'w2v_dist_next', 'w2v_vector', 'tense', 'lexicons', 'speaker', '(laugh', '(crosstalk', '(applause', '(laughter', 'participant', 'opponent']\n"
     ]
    },
    {
     "name": "stderr",
     "output_type": "stream",
     "text": [
      "/home/slav/anaconda3/envs/ai/lib/python3.5/site-packages/numpy/core/fromnumeric.py:2909: RuntimeWarning: Mean of empty slice.\n",
      "  out=out, **kwargs)\n",
      "/home/slav/anaconda3/envs/ai/lib/python3.5/site-packages/numpy/core/_methods.py:80: RuntimeWarning: invalid value encountered in double_scalars\n",
      "  ret = ret.dtype.type(ret / rcount)\n",
      "/home/slav/anaconda3/envs/ai/lib/python3.5/site-packages/scipy/spatial/distance.py:644: RuntimeWarning: invalid value encountered in double_scalars\n",
      "  dist = 1.0 - uv / np.sqrt(uu * vv)\n",
      "/home/slav/anaconda3/envs/ai/lib/python3.5/site-packages/numpy/core/fromnumeric.py:2909: RuntimeWarning: Mean of empty slice.\n",
      "  out=out, **kwargs)\n",
      "/home/slav/anaconda3/envs/ai/lib/python3.5/site-packages/numpy/core/_methods.py:80: RuntimeWarning: invalid value encountered in double_scalars\n",
      "  ret = ret.dtype.type(ret / rcount)\n",
      "/home/slav/anaconda3/envs/ai/lib/python3.5/site-packages/scipy/spatial/distance.py:644: RuntimeWarning: invalid value encountered in double_scalars\n",
      "  dist = 1.0 - uv / np.sqrt(uu * vv)\n",
      "/home/slav/anaconda3/envs/ai/lib/python3.5/site-packages/numpy/core/fromnumeric.py:2909: RuntimeWarning: Mean of empty slice.\n",
      "  out=out, **kwargs)\n",
      "/home/slav/anaconda3/envs/ai/lib/python3.5/site-packages/numpy/core/_methods.py:80: RuntimeWarning: invalid value encountered in double_scalars\n",
      "  ret = ret.dtype.type(ret / rcount)\n",
      "/home/slav/anaconda3/envs/ai/lib/python3.5/site-packages/scipy/spatial/distance.py:644: RuntimeWarning: invalid value encountered in double_scalars\n",
      "  dist = 1.0 - uv / np.sqrt(uu * vv)\n",
      "/home/slav/anaconda3/envs/ai/lib/python3.5/site-packages/numpy/core/fromnumeric.py:2909: RuntimeWarning: Mean of empty slice.\n",
      "  out=out, **kwargs)\n",
      "/home/slav/anaconda3/envs/ai/lib/python3.5/site-packages/numpy/core/_methods.py:80: RuntimeWarning: invalid value encountered in double_scalars\n",
      "  ret = ret.dtype.type(ret / rcount)\n",
      "/home/slav/anaconda3/envs/ai/lib/python3.5/site-packages/scipy/spatial/distance.py:644: RuntimeWarning: invalid value encountered in double_scalars\n",
      "  dist = 1.0 - uv / np.sqrt(uu * vv)\n"
     ]
    }
   ],
   "source": [
    "debates = [Debate.FIRST, Debate.VP, Debate.SECOND, Debate.THIRD]\n",
    "debates_size = len(debates)\n",
    "debate_sentences = np.array([read_debates(debate) for debate in debates])\n",
    "debate_results = [get_claim_scores(debate_sentence) for debate_sentence in debate_sentences]\n",
    "pipeline = get_full_pipeline()\n",
    "debate_features = np.array([pipeline.fit_transform(debate_sentence) for debate_sentence in debate_sentences])"
   ]
  },
  {
   "cell_type": "code",
   "execution_count": 174,
   "metadata": {},
   "outputs": [],
   "source": [
    "debate_results = np.array([get_claim_scores(debate_sentence) for debate_sentence in debate_sentences])"
   ]
  },
  {
   "cell_type": "code",
   "execution_count": 175,
   "metadata": {
    "collapsed": true
   },
   "outputs": [],
   "source": [
    "def create_baseline_model(in_count, out_count):\n",
    "    input_layer = Input(shape=(in_count,))\n",
    "    x = Dense(100, kernel_initializer='normal', activation='relu')(input_layer)\n",
    "    \n",
    "    outputs = list(map(lambda _: Dense(1, kernel_initializer='normal', activation='sigmoid')(x), range(out_count)))\n",
    "\n",
    "    model = Model(inputs=[input_layer], outputs=outputs)\n",
    "                         \n",
    "    model.compile(optimizer='adam', \n",
    "                  loss='binary_crossentropy',\n",
    "                  metrics=['accuracy'])\n",
    "    return model;"
   ]
  },
  {
   "cell_type": "code",
   "execution_count": 176,
   "metadata": {
    "collapsed": true
   },
   "outputs": [],
   "source": [
    "def getFeatures(train_indices, val_indices, test_indices):\n",
    "    train_sentences = np.concatenate(debate_sentences[train_indices])\n",
    "    val_sentences = np.concatenate(debate_sentences[val_indices])\n",
    "    test_sentences = np.concatenate(debate_sentences[test_indices])\n",
    "    \n",
    "    pipeline = get_experimential_pipeline(train_sentences)\n",
    "    \n",
    "    X_train = np.array([pipeline.fit_transform(debate_sentences) for debate_sentences in train_sentences])\n",
    "    X_val = np.array([pipeline.fit_transform(debate_sentences) for debate_sentences in val_sentences])\n",
    "    X_test = np.array([pipeline.fit_transform(debate_sentences) for debate_sentences in test_sentences])\n",
    "    \n",
    "    return X_train, X_val, X_test"
   ]
  },
  {
   "cell_type": "code",
   "execution_count": 177,
   "metadata": {},
   "outputs": [],
   "source": [
    "def getDataByIndices(train_indices, val_indices, test_indices, train_targets, test_targets):\n",
    "    X_train = np.concatenate(debate_features[train_indices])\n",
    "    X_val = np.concatenate(debate_features[val_indices])\n",
    "    X_test = np.concatenate(debate_features[test_indices])\n",
    "    \n",
    "    y_train = list(np.vstack(debate_results[train_indices])[:, train_targets].T)\n",
    "    y_val = list(np.vstack(debate_results[val_indices])[:, test_targets].T)\n",
    "    y_test = list(np.vstack(debate_results[test_indices])[:, test_targets].T)\n",
    "    return X_train, X_val, X_test, y_train, y_val, y_test"
   ]
  },
  {
   "cell_type": "code",
   "execution_count": 178,
   "metadata": {
    "collapsed": true
   },
   "outputs": [],
   "source": [
    "def run_single_model(X_train, X_val, X_test, train_target, val_targets, test_targets, iters = 20, epochs=5):\n",
    "    model = create_baseline_model(X_train.shape[1], 1);\n",
    "    best_models = [{'model': None, 'av_p': 0., 'iter': -1} for _ in test_targets]\n",
    "\n",
    "    for ite in range(iters):\n",
    "        \n",
    "        model.fit(X_train, y=[train_target], epochs=epochs, verbose=0, batch_size=550)\n",
    "\n",
    "        print(str(epochs * (ite + 1)) + ' ', end='')\n",
    "        \n",
    "        predicted_val = model.predict(X_val)[:, 0]\n",
    "        \n",
    "        for j in range(len(test_targets)):\n",
    "            av_p = average_precision_score(val_targets[j], predicted_val)\n",
    "            if (av_p > best_models[j]['av_p']):\n",
    "                best_models[j] = {'model': clone_model(model), 'av_p': av_p, 'iter': ite}\n",
    "    \n",
    "    print()\n",
    "    \n",
    "    for j in range(len(test_targets)):\n",
    "        best_model = best_models[j]\n",
    "        best_model['av_p_test'] = average_precision_score(test_targets[j], best_model['model'].predict(X_test)[:, 0])\n",
    "    \n",
    "    return best_models\n",
    "    "
   ]
  },
  {
   "cell_type": "code",
   "execution_count": 179,
   "metadata": {
    "collapsed": true
   },
   "outputs": [],
   "source": [
    "def run_multiple_model(X_train, X_val, X_test, train_targets, val_targets, test_targets, log_indexes, iters = 20, epochs=5):\n",
    "    model = create_baseline_model(X_train.shape[1], len(train_targets));\n",
    "    best_models = [{'model': None, 'av_p': 0., 'iter': -1} for _ in log_indexes]\n",
    "\n",
    "    for ite in range(iters):\n",
    "        model.fit(X_train, y=train_targets, epochs=epochs, verbose=0, batch_size=550)\n",
    "    \n",
    "        print(str(epochs * (ite + 1)) + ' ', end='')\n",
    "        \n",
    "        predicted_val = np.array(model.predict(X_val))\n",
    "        \n",
    "        for j, i in enumerate(log_indexes):\n",
    "            av_p = average_precision_score(val_targets[j], predicted_val[i][:, 0])\n",
    "            if (av_p > best_models[j]['av_p']):\n",
    "                best_models[j] = {'model': clone_model(model), 'av_p': av_p, 'iter': ite}\n",
    "    \n",
    "    print()\n",
    "    \n",
    "    for j, i in enumerate(log_indexes):\n",
    "        best_model = best_models[j]\n",
    "        best_model['av_p_test'] = average_precision_score(test_targets[j], best_model['model'].predict(X_test)[i][:, 0])\n",
    "    \n",
    "    return best_models\n",
    "    "
   ]
  },
  {
   "cell_type": "code",
   "execution_count": 164,
   "metadata": {},
   "outputs": [
    {
     "name": "stdout",
     "output_type": "stream",
     "text": [
      "5 10 15 20 25 30 35 40 45 50 55 60 65 70 75 80 85 90 95 100 \n"
     ]
    },
    {
     "data": {
      "text/plain": [
       "[{'av_p': 0.35230997567875699,\n",
       "  'av_p_test': 0.14887425218375649,\n",
       "  'iter': 19,\n",
       "  'model': <keras.engine.training.Model at 0x7f76192d59b0>},\n",
       " {'av_p': 0.18705704589224104,\n",
       "  'av_p_test': 0.059156327850934727,\n",
       "  'iter': 19,\n",
       "  'model': <keras.engine.training.Model at 0x7f76192a9f28>}]"
      ]
     },
     "execution_count": 164,
     "metadata": {},
     "output_type": "execute_result"
    }
   ],
   "source": [
    "X_train, X_val, X_test, y_train, y_val, y_test = getDataByIndices([0,1], [2], [3], [0], [0, 5])\n",
    "run_single_model(X_train, X_val, X_test, y_train[0], y_val, y_test)"
   ]
  },
  {
   "cell_type": "code",
   "execution_count": 165,
   "metadata": {},
   "outputs": [
    {
     "name": "stdout",
     "output_type": "stream",
     "text": [
      "5 10 15 20 25 30 35 40 45 50 55 60 65 70 75 80 85 90 95 100 \n"
     ]
    },
    {
     "data": {
      "text/plain": [
       "[{'av_p': 0.33423660607236566,\n",
       "  'av_p_test': 0.22624190646654346,\n",
       "  'iter': 19,\n",
       "  'model': <keras.engine.training.Model at 0x7f761886b4a8>},\n",
       " {'av_p': 0.17578478031487371,\n",
       "  'av_p_test': 0.067522342071457048,\n",
       "  'iter': 18,\n",
       "  'model': <keras.engine.training.Model at 0x7f76188be8d0>}]"
      ]
     },
     "execution_count": 165,
     "metadata": {},
     "output_type": "execute_result"
    }
   ],
   "source": [
    "X_train, X_val, X_test, y_train, y_val, y_test = getDataByIndices([0,1], [2], [3], [5], [0, 5])\n",
    "run_single_model(X_train, X_val, X_test, y_train[0], y_val, y_test)"
   ]
  },
  {
   "cell_type": "code",
   "execution_count": 91,
   "metadata": {},
   "outputs": [
    {
     "name": "stdout",
     "output_type": "stream",
     "text": [
      "5 10 15 20 25 30 35 40 45 50 55 60 65 70 75 80 85 90 95 100 \n",
      "85\n",
      "0.39236876125\n",
      "0.13823944287\n",
      "40\n",
      "0.159588772507\n",
      "0.0547967679175\n"
     ]
    },
    {
     "data": {
      "text/plain": [
       "[{'av_p': 0.39236876125049991,\n",
       "  'iter': 16,\n",
       "  'model': <keras.engine.training.Model at 0x7f7662157fd0>},\n",
       " {'av_p': 0.15958877250737052,\n",
       "  'iter': 7,\n",
       "  'model': <keras.engine.training.Model at 0x7f7662427d30>}]"
      ]
     },
     "execution_count": 91,
     "metadata": {},
     "output_type": "execute_result"
    }
   ],
   "source": [
    "X_train, X_val, X_test, y_train, y_val, y_test = getDataByIndices([0,1], [2], [3], [0, 5], [0, 5])\n",
    "run_multiple_model(X_train, X_val, X_test, y_train, y_val, y_test, [0, 1])"
   ]
  },
  {
   "cell_type": "code",
   "execution_count": 166,
   "metadata": {},
   "outputs": [
    {
     "name": "stdout",
     "output_type": "stream",
     "text": [
      "5 10 15 20 25 30 35 40 45 50 55 60 65 70 75 80 85 90 95 100 \n"
     ]
    },
    {
     "data": {
      "text/plain": [
       "[{'av_p': 0.3418613844605623,\n",
       "  'av_p_test': 0.15924850465430482,\n",
       "  'iter': 19,\n",
       "  'model': <keras.engine.training.Model at 0x7f76147fee48>},\n",
       " {'av_p': 0.18030329842282497,\n",
       "  'av_p_test': 0.077014888074159363,\n",
       "  'iter': 19,\n",
       "  'model': <keras.engine.training.Model at 0x7f761469c828>}]"
      ]
     },
     "execution_count": 166,
     "metadata": {},
     "output_type": "execute_result"
    }
   ],
   "source": [
    "X_train, X_val, X_test, y_train, y_val, y_test = getDataByIndices([0,1], [2], [3], range(9), [0, 5])\n",
    "run_multiple_model(X_train, X_val, X_test, y_train, y_val, y_test, [0, 5])"
   ]
  },
  {
   "cell_type": "code",
   "execution_count": 180,
   "metadata": {
    "collapsed": true
   },
   "outputs": [],
   "source": [
    "crossvalidation_indices = [[[0, 1], [2], [3]], [[0, 1], [3], [2]], [[0, 2], [3], [1]], [[1, 2], [3], [0]]]"
   ]
  },
  {
   "cell_type": "code",
   "execution_count": 181,
   "metadata": {},
   "outputs": [],
   "source": [
    "def crossValidateSingle(train_targets, test_targets):\n",
    "    models_sums = [0 for _ in test_targets]\n",
    "    for indices in crossvalidation_indices:\n",
    "        train_indices, val_indices, test_indices = indices\n",
    "        X_train, X_val, X_test, y_train, y_val, y_test = getDataByIndices(\n",
    "            train_indices, val_indices, test_indices, train_targets, test_targets)\n",
    "        models = run_single_model(X_train, X_val, X_test, y_train[0], y_val, y_test)\n",
    "        print(models)\n",
    "        models_sums = [prev + curr['av_p_test'] for prev, curr in zip(models_sums, models)]\n",
    "        \n",
    "    \n",
    "    return np.array(models_sums) / len(crossvalidation_indices)\n",
    "    "
   ]
  },
  {
   "cell_type": "code",
   "execution_count": 158,
   "metadata": {},
   "outputs": [
    {
     "name": "stdout",
     "output_type": "stream",
     "text": [
      "5 \n",
      "[{'model': <keras.engine.training.Model object at 0x7f761c4518d0>, 'av_p': 0.25204736511935877, 'av_p_test': 0.17592987085240852, 'iter': 0}, {'model': <keras.engine.training.Model object at 0x7f761c1bbf28>, 'av_p': 0.12547488325175818, 'av_p_test': 0.058695693492578402, 'iter': 0}]\n",
      "5 \n",
      "[{'model': <keras.engine.training.Model object at 0x7f761c0f2e80>, 'av_p': 0.2165409665232208, 'av_p_test': 0.12894253453652849, 'iter': 0}, {'model': <keras.engine.training.Model object at 0x7f761bdfeb00>, 'av_p': 0.067845092432430532, 'av_p_test': 0.097572666232368335, 'iter': 0}]\n",
      "5 \n",
      "[{'model': <keras.engine.training.Model object at 0x7f761bd0ee48>, 'av_p': 0.2620117103439894, 'av_p_test': 0.13350956688007348, 'iter': 0}, {'model': <keras.engine.training.Model object at 0x7f761ba78ba8>, 'av_p': 0.099194279104324143, 'av_p_test': 0.049455539323674066, 'iter': 0}]\n",
      "5 \n",
      "[{'model': <keras.engine.training.Model object at 0x7f761b98af60>, 'av_p': 0.26203684049085502, 'av_p_test': 0.14134092482703192, 'iter': 0}, {'model': <keras.engine.training.Model object at 0x7f761b68ca20>, 'av_p': 0.084063163057150142, 'av_p_test': 0.058666884443303577, 'iter': 0}]\n"
     ]
    },
    {
     "data": {
      "text/plain": [
       "array([ 0.14493072,  0.0660977 ])"
      ]
     },
     "execution_count": 158,
     "metadata": {},
     "output_type": "execute_result"
    }
   ],
   "source": [
    "crossValidateSingle([0, 5], [0, 5])"
   ]
  },
  {
   "cell_type": "code",
   "execution_count": 182,
   "metadata": {
    "collapsed": true
   },
   "outputs": [],
   "source": [
    "def crossValidateMultiple(train_targets, test_targets, log_indexes):\n",
    "    models_sums = [0 for _ in test_targets]\n",
    "    for indices in crossvalidation_indices:\n",
    "        train_indices, val_indices, test_indices = indices\n",
    "        X_train, X_val, X_test, y_train, y_val, y_test = getDataByIndices(\n",
    "            train_indices, val_indices, test_indices, train_targets, test_targets)\n",
    "        models = run_multiple_model(X_train, X_val, X_test, y_train, y_val, y_test, log_indexes)\n",
    "        print(models)\n",
    "        models_sums = [prev + curr['av_p_test'] for prev, curr in zip(models_sums, models)]\n",
    "        \n",
    "    \n",
    "    return np.array(models_sums) / len(crossvalidation_indices)"
   ]
  },
  {
   "cell_type": "code",
   "execution_count": 162,
   "metadata": {},
   "outputs": [
    {
     "name": "stdout",
     "output_type": "stream",
     "text": [
      "5 \n",
      "[{'model': <keras.engine.training.Model object at 0x7f761b5d3d68>, 'av_p': 0.12439200322704333, 'av_p_test': 0.2396622781793504, 'iter': 0}, {'model': <keras.engine.training.Model object at 0x7f761b0f3fd0>, 'av_p': 0.052681825570640169, 'av_p_test': 0.061406264374609595, 'iter': 0}]\n",
      "5 \n",
      "[{'model': <keras.engine.training.Model object at 0x7f761afbaa58>, 'av_p': 0.28823080112630528, 'av_p_test': 0.11098749939125524, 'iter': 0}, {'model': <keras.engine.training.Model object at 0x7f761aa76fd0>, 'av_p': 0.072348512250391628, 'av_p_test': 0.089579202607556974, 'iter': 0}]\n",
      "5 \n",
      "[{'model': <keras.engine.training.Model object at 0x7f761a9b4908>, 'av_p': 0.23989739691974807, 'av_p_test': 0.15543881318035924, 'iter': 0}, {'model': <keras.engine.training.Model object at 0x7f761a444cc0>, 'av_p': 0.080403028236606139, 'av_p_test': 0.097147880835494638, 'iter': 0}]\n",
      "5 \n",
      "[{'model': <keras.engine.training.Model object at 0x7f761a364828>, 'av_p': 0.19779758436527672, 'av_p_test': 0.16634786877562685, 'iter': 0}, {'model': <keras.engine.training.Model object at 0x7f7619e6b9e8>, 'av_p': 0.059387694955080533, 'av_p_test': 0.05367768146119585, 'iter': 0}]\n"
     ]
    },
    {
     "data": {
      "text/plain": [
       "array([ 0.16810911,  0.07545276])"
      ]
     },
     "execution_count": 162,
     "metadata": {},
     "output_type": "execute_result"
    }
   ],
   "source": [
    "crossValidateMultiple([0, 5], [0, 5], [0, 1])"
   ]
  },
  {
   "cell_type": "code",
   "execution_count": 183,
   "metadata": {},
   "outputs": [
    {
     "name": "stdout",
     "output_type": "stream",
     "text": [
      "5 10 15 20 25 30 35 40 45 50 55 60 65 70 75 80 85 90 95 100 \n",
      "[{'model': <keras.engine.training.Model object at 0x7f7641318d30>, 'av_p': 0.36214022741250707, 'av_p_test': 0.18947550275303224, 'iter': 17}, {'model': <keras.engine.training.Model object at 0x7f76411efa90>, 'av_p': 0.20954873837173996, 'av_p_test': 0.067317011458806572, 'iter': 5}]\n",
      "5 10 15 20 25 30 35 40 45 50 55 60 65 70 75 80 85 90 95 100 \n",
      "[{'model': <keras.engine.training.Model object at 0x7f76748e9390>, 'av_p': 0.36918571892346225, 'av_p_test': 0.15225166876864432, 'iter': 16}, {'model': <keras.engine.training.Model object at 0x7f769b67f978>, 'av_p': 0.16178218313855802, 'av_p_test': 0.09469362948168128, 'iter': 7}]\n",
      "5 10 15 20 25 30 35 40 45 50 55 60 65 70 75 80 85 90 95 100 \n",
      "[{'model': <keras.engine.training.Model object at 0x7f76129f24e0>, 'av_p': 0.39540673003767746, 'av_p_test': 0.1826135036541158, 'iter': 10}, {'model': <keras.engine.training.Model object at 0x7f76749d7a58>, 'av_p': 0.20051750744988847, 'av_p_test': 0.091311271302003921, 'iter': 7}]\n",
      "5 10 15 20 25 30 35 40 45 50 55 60 65 70 75 80 85 90 95 100 \n",
      "[{'model': <keras.engine.training.Model object at 0x7f761205d048>, 'av_p': 0.43111053199872351, 'av_p_test': 0.16321781614194356, 'iter': 18}, {'model': <keras.engine.training.Model object at 0x7f7612199f28>, 'av_p': 0.17868894275235253, 'av_p_test': 0.068957060015882934, 'iter': 10}]\n",
      "5 10 15 20 25 30 35 40 45 50 55 60 65 70 75 80 85 90 95 100 \n",
      "[{'model': <keras.engine.training.Model object at 0x7f76115daf60>, 'av_p': 0.33985253564675832, 'av_p_test': 0.18839075924260931, 'iter': 19}, {'model': <keras.engine.training.Model object at 0x7f761187e908>, 'av_p': 0.19764770928667069, 'av_p_test': 0.096956209588150294, 'iter': 10}]\n",
      "5 10 15 20 25 30 35 40 45 50 55 60 65 70 75 80 85 90 95 100 \n",
      "[{'model': <keras.engine.training.Model object at 0x7f7610c939b0>, 'av_p': 0.34175080472471797, 'av_p_test': 0.12959860198332052, 'iter': 15}, {'model': <keras.engine.training.Model object at 0x7f7610d20c88>, 'av_p': 0.15586473658643132, 'av_p_test': 0.063127709713458047, 'iter': 11}]\n",
      "5 10 15 20 25 30 35 40 45 50 55 60 65 70 75 80 85 90 95 100 \n",
      "[{'model': <keras.engine.training.Model object at 0x7f7610406278>, 'av_p': 0.36555482963286501, 'av_p_test': 0.19841943807588847, 'iter': 12}, {'model': <keras.engine.training.Model object at 0x7f76104a0dd8>, 'av_p': 0.17641161455072946, 'av_p_test': 0.07427748606903456, 'iter': 10}]\n",
      "5 10 15 20 25 30 35 40 45 50 55 60 65 70 75 80 85 90 95 100 \n",
      "[{'model': <keras.engine.training.Model object at 0x7f760f9582e8>, 'av_p': 0.39286317405842391, 'av_p_test': 0.16163034181820626, 'iter': 19}, {'model': <keras.engine.training.Model object at 0x7f760fb96550>, 'av_p': 0.16655306722721278, 'av_p_test': 0.081853645229298722, 'iter': 10}]\n",
      "5 10 15 20 25 30 35 40 45 50 55 60 65 70 75 80 85 90 95 100 \n",
      "[{'model': <keras.engine.training.Model object at 0x7f7614e03518>, 'av_p': 0.3681593909630097, 'av_p_test': 0.14055081938740022, 'iter': 19}, {'model': <keras.engine.training.Model object at 0x7f7614b4c0b8>, 'av_p': 0.20947641530770839, 'av_p_test': 0.089627726107119721, 'iter': 12}]\n",
      "5 10 15 20 25 30 35 40 45 50 55 60 65 70 75 80 85 90 95 100 \n",
      "[{'model': <keras.engine.training.Model object at 0x7f76163df2e8>, 'av_p': 0.36499406931223272, 'av_p_test': 0.10166364970379002, 'iter': 12}, {'model': <keras.engine.training.Model object at 0x7f76166a97b8>, 'av_p': 0.16532559474072903, 'av_p_test': 0.052284784158163913, 'iter': 10}]\n",
      "5 10 15 20 25 30 35 40 45 50 55 60 65 70 75 80 85 90 95 100 \n",
      "[{'model': <keras.engine.training.Model object at 0x7f760dbb0e48>, 'av_p': 0.39842310375177603, 'av_p_test': 0.14565026800177497, 'iter': 9}, {'model': <keras.engine.training.Model object at 0x7f760dbec2b0>, 'av_p': 0.18086376958676695, 'av_p_test': 0.069376968077669743, 'iter': 8}]\n",
      "5 10 15 20 25 30 35 40 45 50 55 60 65 70 75 80 85 90 95 100 \n",
      "[{'model': <keras.engine.training.Model object at 0x7f760ca3c9b0>, 'av_p': 0.42650330173913786, 'av_p_test': 0.22936673497167909, 'iter': 19}, {'model': <keras.engine.training.Model object at 0x7f760cb3a860>, 'av_p': 0.17819462668071168, 'av_p_test': 0.082204911792142427, 'iter': 15}]\n",
      "5 10 15 20 25 30 35 40 45 50 55 60 65 70 75 80 85 90 95 100 \n",
      "[{'model': <keras.engine.training.Model object at 0x7f7608eafcc0>, 'av_p': 0.34769330212183136, 'av_p_test': 0.15761331196972983, 'iter': 17}, {'model': <keras.engine.training.Model object at 0x7f760919ecf8>, 'av_p': 0.19865100833163091, 'av_p_test': 0.069742093307088457, 'iter': 16}]\n",
      "5 10 15 20 25 30 35 40 45 50 55 60 65 70 75 80 85 90 95 100 \n",
      "[{'model': <keras.engine.training.Model object at 0x7f7605967cc0>, 'av_p': 0.37298949709415258, 'av_p_test': 0.17575138417424208, 'iter': 19}, {'model': <keras.engine.training.Model object at 0x7f7606c5dfd0>, 'av_p': 0.17849218359675306, 'av_p_test': 0.068579211324168859, 'iter': 4}]\n",
      "5 10 15 20 25 30 35 40 45 50 55 60 65 70 75 80 85 90 95 100 \n",
      "[{'model': <keras.engine.training.Model object at 0x7f76075aa048>, 'av_p': 0.40553270904473171, 'av_p_test': 0.20188325899854964, 'iter': 15}, {'model': <keras.engine.training.Model object at 0x7f760783e5f8>, 'av_p': 0.19349196119401063, 'av_p_test': 0.058685269172550465, 'iter': 16}]\n",
      "5 10 15 20 25 30 35 40 45 50 55 60 65 70 75 80 85 90 95 100 \n",
      "[{'model': <keras.engine.training.Model object at 0x7f75feead438>, 'av_p': 0.43251987643074952, 'av_p_test': 0.12266545101274658, 'iter': 19}, {'model': <keras.engine.training.Model object at 0x7f75ff593ac8>, 'av_p': 0.18880112154435225, 'av_p_test': 0.056651462588496862, 'iter': 14}]\n"
     ]
    },
    {
     "data": {
      "text/plain": [
       "array([ 0.16447835,  0.06341451])"
      ]
     },
     "execution_count": 183,
     "metadata": {},
     "output_type": "execute_result"
    }
   ],
   "source": [
    "crossValidateSingle([0], [0, 5])\n",
    "crossValidateSingle([5], [0, 5])\n",
    "crossValidateMultiple([0, 5], [0, 5], [0, 1])\n",
    "crossValidateMultiple(range(9), [0, 5], [0,5])"
   ]
  },
  {
   "cell_type": "code",
   "execution_count": null,
   "metadata": {
    "collapsed": true
   },
   "outputs": [],
   "source": []
  }
 ],
 "metadata": {
  "kernelspec": {
   "display_name": "Python (ai)",
   "language": "python",
   "name": "ai"
  },
  "language_info": {
   "codemirror_mode": {
    "name": "ipython",
    "version": 3
   },
   "file_extension": ".py",
   "mimetype": "text/x-python",
   "name": "python",
   "nbconvert_exporter": "python",
   "pygments_lexer": "ipython3",
   "version": "3.5.4"
  }
 },
 "nbformat": 4,
 "nbformat_minor": 2
}
